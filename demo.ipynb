{
  "cells": [
    {
      "attachments": {},
      "cell_type": "markdown",
      "metadata": {
        "id": "nv0GCmiGPLvS"
      },
      "source": [
        "# miRe2e\n",
        "\n",
        "This notebook is a quick guide to use the methods from:\n",
        "\n",
        "J. Raad, L. A. Bugnon, D. H. Milone and G. Stegmayer, \"**miRe2e: a full\n",
        "end-to-end deep model based on  Transformers for prediction\n",
        "of pre-miRNAs from raw genome-wide data**\", 2021.\n"
      ]
    },
    {
      "attachments": {},
      "cell_type": "markdown",
      "metadata": {
        "id": "EFKYq54GQQ6o"
      },
      "source": [
        "## Installation\n",
        "The package is available in PyPI and uses standard packages from the python ecosystem, thus it is straightforward:"
      ]
    },
    {
      "cell_type": "code",
      "execution_count": 1,
      "metadata": {
        "id": "2ZgpfpBtfoOk"
      },
      "outputs": [
        {
          "name": "stdout",
          "output_type": "stream",
          "text": [
            "Note: you may need to restart the kernel to use updated packages.\n"
          ]
        }
      ],
      "source": [
        "pip install -U miRe2e  > /dev/null"
      ]
    },
    {
      "attachments": {},
      "cell_type": "markdown",
      "metadata": {
        "id": "CWT7HYzkQs-F"
      },
      "source": [
        "# Quick start\n",
        "In this demo we will predict pre-miRNAs on H. sapiens chromosome 19. As it will take a while, you can run a fast check of the model using a short input sequence like the following\n"
      ]
    },
    {
      "cell_type": "code",
      "execution_count": 1,
      "metadata": {
        "colab": {
          "base_uri": "https://localhost:8080/"
        },
        "id": "arnxufaKPGn0",
        "outputId": "fc828ee4-c5ae-4346-c6db-e0b83e23c05c"
      },
      "outputs": [
        {
          "name": "stdout",
          "output_type": "stream",
          "text": [
            "--2023-07-08 21:08:08--  https://raw.githubusercontent.com/sinc-lab/miRe2e/master/examples/chr19_13836201_13836660_true.fa\n",
            "Resolviendo raw.githubusercontent.com (raw.githubusercontent.com)... 185.199.108.133, 185.199.109.133, 185.199.110.133, ...\n",
            "Conectando con raw.githubusercontent.com (raw.githubusercontent.com)[185.199.108.133]:443... conectado.\n",
            "Petición HTTP enviada, esperando respuesta... 200 OK\n",
            "Longitud: 474 [text/plain]\n",
            "Grabando a: «chr19_13836201_13836660_true.fa.6»\n",
            "\n",
            "chr19_13836201_1383 100%[===================>]     474  --.-KB/s    en 0s      \n",
            "\n",
            "2023-07-08 21:08:08 (42,3 MB/s) - «chr19_13836201_13836660_true.fa.6» guardado [474/474]\n",
            "\n"
          ]
        }
      ],
      "source": [
        "# Short exerpt of chr19\n",
        "!wget https://raw.githubusercontent.com/sinc-lab/miRe2e/master/examples/chr19_13836201_13836660_true.fa  > /dev/null\n",
        "\n",
        "# Notice that the input file is a raw sequence string, like this one\n",
        "#>chr19\n",
        "#AGGTCTGATTCTGAGTCCTCATCTCTGCTCCAAGCATCAGCCCACCCAGGGAAGGCAGGG\n",
        "#GCTGCAGGCTCCAAGGGGGCTTGACCCCTGTTCCTGCTGAACTGAGCCAGTGTACACAAA\n",
        "#CCAACTGTGTTTCAGCTCAGTAGGCACGGGAGGCAGAGCCCAGGGAGGCCAGGCAGCAGG\n",
        "#ATGGCAGGCAGACAGGCGGCAGCAGGGGACAGGCGGCAAGGCCAGAGGAGGTGAGGGCCT\n",
        "#GGGGGGCGGAACTTAGCCACTGTGAACACGACTTGGTGTGGACCCTGCTCACAAGCAGCT\n",
        "#AAGCCCTGCTCCTCAGGCCAGGCACAGGCTTCGGGGCCTCTCTGCCACCCCGTCCCCGGG\n",
        "#CAGCATCCTCGGTGGCAGAGCTCAGGGTCGGTTGGAAATCCCTGGCAATGTGATTTGTGA\n",
        "#CAGGAAGCAAATCCCATCCCCAGGAACCCCAGCCGGCCG\n",
        "\n",
        "filename = \"chr19_13836201_13836660_true.fa\""
      ]
    },
    {
      "attachments": {},
      "cell_type": "markdown",
      "metadata": {
        "id": "QWwCv31gGlZG"
      },
      "source": [
        "The following runs the prediction on the raw RNA sequence. The input fasta file is analyzed with a sliding window, and a score is obtained for each one.\n",
        "\n",
        "First, let's load the model. The model has 3 stages:\n",
        "1.  Structure prediction model: predicts RNA secondary structure using only the input sequence.\n",
        "2. MFE estimation model: estimates the minimum free energy when folding (MFE) the secondary  structure.\n",
        "3. Pre-miRNA classifier: uses the input RNA sequence and the outputs of the two previous\n",
        "  models to give a score to the input sequence in order to determine if it is a  pre-miRNA candidate.  \n"
      ]
    },
    {
      "cell_type": "code",
      "execution_count": 2,
      "metadata": {
        "colab": {
          "base_uri": "https://localhost:8080/",
          "height": 241,
          "referenced_widgets": [
            "9e3b706d9726405786f03f79bb03f8b7",
            "d5e622dc281246fcaaedeb0b9e1db321",
            "b3e5307cb4964ca9890a191a9cc28eea",
            "dc91e92d8ed34cc788abe6b9a051742c",
            "b67af0a0f12f4d49a248417af7a0fe7b",
            "da0a56d4665f47c2bcfebbaa54a43020",
            "bdb95f9433ec4c13a44c2df5437d2b43",
            "bc7eec5b6c1546d78736df93e7091f7b",
            "4cba0c11084b46d0a643626a40056812",
            "9b74f095bc9943f8ae63af5ef01918b6",
            "1078edea5eb4428ea67d1f7818099da7",
            "077439fe4b3a411795e0ad3bb18e12a0",
            "5b35a8cede8a42d68840fdb03315d270",
            "4200541ec6754eac86727d15320ce6df",
            "e489f921d3b44be99d53839ef2e37434",
            "7735f9534b6448f198b76ce6e62106f9",
            "579edd74d13440608326b027ffad5bea",
            "3e05d08b32b049659465ed7148bc3a81",
            "272a4565bda44d61afc4f07434a1fc58",
            "a43e5680216442bfabcab0da522db00c",
            "d6e105e4580b4acbaaf1c2bf9b9db961",
            "3335c866a1f74bc093e138b2732c35e4",
            "1e4ac03371c242169a9346edfd2e06bd",
            "ef0572424a9b49758b356269b2b9d8c5"
          ]
        },
        "id": "9HfSnPpuGkww",
        "outputId": "8db38e6c-7988-4a84-f356-c076af3c057c"
      },
      "outputs": [],
      "source": [
        "from miRe2e import MiRe2e\n",
        "\n",
        "# Create an instance. Pre-trained weights are download by default. New model\n",
        "# weights can be given as well (see source documentation)\n",
        "model = MiRe2e()"
      ]
    },
    {
      "attachments": {},
      "cell_type": "markdown",
      "metadata": {
        "id": "J_ZiTsTFGrkh"
      },
      "source": [
        "The ```predict``` method uses the pretrained model to analyze the input fasta and return the scores"
      ]
    },
    {
      "cell_type": "code",
      "execution_count": 3,
      "metadata": {
        "colab": {
          "base_uri": "https://localhost:8080/"
        },
        "id": "mGqoGJ4wGreO",
        "outputId": "d79d07be-8e42-4d3b-ba17-1bc27413f750"
      },
      "outputs": [
        {
          "name": "stdout",
          "output_type": "stream",
          "text": [
            "Loading sequences...\n",
            "Number of sequences: 36\n",
            "Done\n"
          ]
        },
        {
          "name": "stderr",
          "output_type": "stream",
          "text": [
            "  0%|          | 0/1 [00:00<?, ?it/s]"
          ]
        },
        {
          "name": "stderr",
          "output_type": "stream",
          "text": [
            "100%|██████████| 1/1 [00:00<00:00,  3.68it/s]"
          ]
        },
        {
          "name": "stdout",
          "output_type": "stream",
          "text": [
            "\n",
            "[4.8296736e-04 2.5739661e-07 1.1705596e-03]\n",
            "['chr19-0-100', 'chr19-20-120', 'chr19-40-140']\n"
          ]
        },
        {
          "name": "stderr",
          "output_type": "stream",
          "text": [
            "\n"
          ]
        }
      ],
      "source": [
        "scores_5_3, scores_3_5, index = model.predict(filename, batch_size=4096)\n",
        "\n",
        "# It returns the scores for each window and the position in pb (stored in index)\n",
        "print()\n",
        "print(scores_5_3[:3])\n",
        "print(index[:3])"
      ]
    },
    {
      "attachments": {},
      "cell_type": "markdown",
      "metadata": {
        "id": "G0c1ML8_RH95"
      },
      "source": [
        "# Running pre-miRNAs prediction on the whole H. Sapiens chromosome 19\n"
      ]
    },
    {
      "cell_type": "code",
      "execution_count": 4,
      "metadata": {
        "id": "kh28D-FmQNk4"
      },
      "outputs": [],
      "source": [
        "# Create an instance, this time using GPU\n",
        "model = MiRe2e(device=\"cuda\")"
      ]
    },
    {
      "attachments": {},
      "cell_type": "markdown",
      "metadata": {
        "id": "uTrs-gZUTmNJ"
      },
      "source": [
        "Because of the computing limitations of this environment, we will download and process only half of the chromosome."
      ]
    },
    {
      "cell_type": "code",
      "execution_count": null,
      "metadata": {
        "colab": {
          "base_uri": "https://localhost:8080/"
        },
        "id": "nf-_Rv4UKNcK",
        "outputId": "640e0721-6c1b-4874-f96c-a239ae2f12a9"
      },
      "outputs": [],
      "source": [
        "# Download and unzip file from our repository\n",
        "!wget https://github.com/sinc-lab/miRe2e/raw/master/examples/chr19_part1.zip > /dev/null\n",
        "!unzip chr19_part1.zip > /dev/null"
      ]
    },
    {
      "attachments": {},
      "cell_type": "markdown",
      "metadata": {
        "id": "5gTLJl06NLaZ"
      },
      "source": [
        "Prediction: this can take up to 30 minutes with the Colab GPU"
      ]
    },
    {
      "cell_type": "code",
      "execution_count": 5,
      "metadata": {
        "colab": {
          "base_uri": "https://localhost:8080/"
        },
        "id": "4ZtubtrGL-JB",
        "outputId": "9d8f94da-f4b0-4b93-95f8-f6edfc8164ce"
      },
      "outputs": [
        {
          "name": "stdout",
          "output_type": "stream",
          "text": [
            "Loading sequences...\n",
            "Number of sequences: 2930880\n",
            "Done\n"
          ]
        },
        {
          "name": "stderr",
          "output_type": "stream",
          "text": [
            "100%|██████████| 716/716 [17:46<00:00,  1.49s/it]\n"
          ]
        }
      ],
      "source": [
        "# Run the prediction for this file\n",
        "scores_5_3, scores_3_5, index = model.predict(\"chr19_part1.fa\", batch_size=4096)\n",
        "\n",
        "pos = [int(i.split(\"-\")[1])-100 for i in index] # use the start index to plot"
      ]
    },
    {
      "attachments": {},
      "cell_type": "markdown",
      "metadata": {
        "id": "jnkXLzLg1JEm"
      },
      "source": [
        "Using the output scores we can see graphically which are the possible pre-miRNA regions. Index contains the position in base-pairs. Given scores account for the 5'-3' and 3'-5' direction.\n",
        "\n",
        "Here we use also a reference label file to show the actual positions of well known pre-miRNAs.\n"
      ]
    },
    {
      "cell_type": "code",
      "execution_count": 6,
      "metadata": {
        "id": "f6Tr3me2ToFp"
      },
      "outputs": [
        {
          "name": "stdout",
          "output_type": "stream",
          "text": [
            "--2023-07-08 21:26:42--  https://github.com/sinc-lab/miRe2e/raw/master/examples/tag_chr19_all.csv\n",
            "Resolviendo github.com (github.com)... 20.201.28.151\n",
            "Conectando con github.com (github.com)[20.201.28.151]:443... conectado.\n",
            "Petición HTTP enviada, esperando respuesta... 302 Found\n",
            "Localización: https://raw.githubusercontent.com/sinc-lab/miRe2e/master/examples/tag_chr19_all.csv [siguiendo]\n",
            "--2023-07-08 21:26:43--  https://raw.githubusercontent.com/sinc-lab/miRe2e/master/examples/tag_chr19_all.csv\n",
            "Resolviendo raw.githubusercontent.com (raw.githubusercontent.com)... 185.199.109.133, 185.199.108.133, 185.199.111.133, ...\n",
            "Conectando con raw.githubusercontent.com (raw.githubusercontent.com)[185.199.109.133]:443... conectado.\n",
            "Petición HTTP enviada, esperando respuesta... 200 OK\n",
            "Longitud: 23447411 (22M) [text/plain]\n",
            "Grabando a: «tag_chr19_all.csv.3»\n",
            "\n",
            "tag_chr19_all.csv.3 100%[===================>]  22,36M  5,89MB/s    en 3,8s    \n",
            "\n",
            "2023-07-08 21:26:48 (5,83 MB/s) - «tag_chr19_all.csv.3» guardado [23447411/23447411]\n",
            "\n"
          ]
        }
      ],
      "source": [
        "import pandas as pd\n",
        "import numpy as np\n",
        "\n",
        "# Reference file for ch19\n",
        "!wget https://github.com/sinc-lab/miRe2e/raw/master/examples/tag_chr19_all.csv > /dev/null\n",
        "ref = pd.read_csv(\"tag_chr19_all.csv\")"
      ]
    },
    {
      "cell_type": "code",
      "execution_count": 7,
      "metadata": {},
      "outputs": [
        {
          "data": {
            "image/png": "[encoded data removed]",
            "text/plain": [
              "<Figure size 1500x500 with 1 Axes>"
            ]
          },
          "metadata": {},
          "output_type": "display_data"
        }
      ],
      "source": [
        "from matplotlib import pyplot as plt\n",
        "\n",
        "# Plot in the region of hsa-mir-24-2 and hsa-mir-27a (positions 13,836,287 and 13,836,440 of strand 3′ respectively)    \n",
        "plt.figure(figsize=(15, 5))\n",
        "plt.plot(pos, scores_3_5, \"*-\")\n",
        "plt.plot(pos, ref.loc[:len(pos)-1, \"reference_3_5\"], \"o\")\n",
        "plt.ylabel(\"pre-miRNA score\")\n",
        "plt.title(\"3'-5'\")\n",
        "plt.xlim(13836200, 13837000);\n"
      ]
    },
    {
      "cell_type": "code",
      "execution_count": 8,
      "metadata": {},
      "outputs": [
        {
          "name": "stdout",
          "output_type": "stream",
          "text": [
            "--2023-07-08 21:26:49--  https://github.com/sinc-lab/miRe2e/raw/master/examples/chr19_part2.zip\n",
            "Resolviendo github.com (github.com)... 20.201.28.151\n",
            "Conectando con github.com (github.com)[20.201.28.151]:443... conectado.\n",
            "Petición HTTP enviada, esperando respuesta... 302 Found\n",
            "Localización: https://raw.githubusercontent.com/sinc-lab/miRe2e/master/examples/chr19_part2.zip [siguiendo]\n",
            "--2023-07-08 21:26:50--  https://raw.githubusercontent.com/sinc-lab/miRe2e/master/examples/chr19_part2.zip\n",
            "Resolviendo raw.githubusercontent.com (raw.githubusercontent.com)... 185.199.111.133, 185.199.108.133, 185.199.110.133, ...\n",
            "Conectando con raw.githubusercontent.com (raw.githubusercontent.com)[185.199.111.133]:443... conectado.\n",
            "Petición HTTP enviada, esperando respuesta... 200 OK\n",
            "Longitud: 8877967 (8,5M) [application/zip]\n",
            "Grabando a: «chr19_part2.zip.2»\n",
            "\n",
            "chr19_part2.zip.2   100%[===================>]   8,47M   533KB/s    en 15s     \n",
            "\n",
            "2023-07-08 21:27:05 (579 KB/s) - «chr19_part2.zip.2» guardado [8877967/8877967]\n",
            "\n",
            "Archive:  chr19_part2.zip\n",
            "replace chr19_part2.fa? [y]es, [n]o, [A]ll, [N]one, [r]ename: ^C\n",
            "Loading sequences...\n",
            "Number of sequences: 2930872\n",
            "Done\n"
          ]
        },
        {
          "name": "stderr",
          "output_type": "stream",
          "text": [
            "100%|██████████| 716/716 [16:33<00:00,  1.39s/it]\n"
          ]
        }
      ],
      "source": [
        "# Download and unzip chromosome 19 part 2\n",
        "!wget https://github.com/sinc-lab/miRe2e/raw/master/examples/chr19_part2.zip\n",
        "!unzip chr19_part2.zip\n",
        "\n",
        "scores_5_3_2, scores_3_5_2, index_2 = model.predict(\"chr19_part2.fa\", batch_size=4096)"
      ]
    },
    {
      "cell_type": "code",
      "execution_count": null,
      "metadata": {},
      "outputs": [
        {
          "name": "stdout",
          "output_type": "stream",
          "text": [
            "Prediction AUCPR:  0.138\n"
          ]
        },
        {
          "data": {
            "image/png": "[encoded data removed]",
            "text/plain": [
              "<Figure size 640x480 with 1 Axes>"
            ]
          },
          "metadata": {},
          "output_type": "display_data"
        }
      ],
      "source": [
        "# Concatenate both parts\n",
        "index = np.concatenate((index, index_2))\n",
        "all_scores_5_3 = np.concatenate((scores_5_3, scores_5_3_2))\n",
        "all_scores_3_5 = np.concatenate((scores_3_5, scores_3_5_2))\n",
        "\n",
        "# Concatenate 5-3 and 3-5 to match mirna positions\n",
        "idx = np.concatenate((ref[\"ind_5_3\"], ref[\"ind_3_5\"]))\n",
        "references = np.concatenate((ref[\"reference_5_3\"], ref[\"reference_3_5\"]))\n",
        "predictions = np.concatenate((all_scores_5_3, all_scores_3_5))\n",
        "\n",
        "idx_pos = np.unique(idx[np.where(references==1)])\n",
        "\n",
        "# Account for overlapped windows with the same pre-mirna\n",
        "del_pos = []\n",
        "for j in idx_pos:\n",
        "    pos = np.where(idx == j)[0]\n",
        "    max_pos = predictions[pos].max()\n",
        "    max_id = pos[predictions[pos].argmax()]\n",
        "    pos = np.delete(pos, np.where(pos == max_id))\n",
        "    del_pos = np.hstack((del_pos, pos))\n",
        "del_pos = del_pos.astype(np.int64)\n",
        "predictions = np.delete(predictions, del_pos)\n",
        "references = np.delete(references, del_pos)\n",
        "\n",
        "start, step, end = 0.01, 0.01, 1.0\n",
        "nn = int((end - start) / step)\n",
        "th = np.hstack((np.linspace(start, end - step, nn),\n",
        "                np.array([0.999, 0.9999, 0.99999, 0.999999,\n",
        "                          0.9999995, 0.9999999])))\n",
        "\n",
        "from miRe2e.get_error import get_error2d2\n",
        "\n",
        "auroc, aucpr, f1max, premax, recmax, th, pre, rec = get_error2d2(references,\n",
        "                                                                 predictions,\n",
        "                                                                 th,\n",
        "                                                                 testtime=False)\n",
        "print(f\"Prediction AUCPR: {aucpr: .3f}\")\n",
        "\n",
        "plt.plot(rec[:-1], pre[:-1])\n",
        "plt.plot(recmax, premax, \"o\", label=f\"F1max = {f1max: .3f}\")\n",
        "plt.xlabel(\"Recall\")\n",
        "plt.xlim([0, 1])\n",
        "plt.ylabel(\"Precision\")\n",
        "plt.legend();"
      ]
    }
  ],
  "metadata": {
    "accelerator": "GPU",
    "colab": {
      "provenance": [],
      "toc_visible": true
    },
    "kernelspec": {
      "display_name": "Python 3",
      "name": "python3"
    },
    "language_info": {
      "codemirror_mode": {
        "name": "ipython",
        "version": 3
      },
      "file_extension": ".py",
      "mimetype": "text/x-python",
      "name": "python",
      "nbconvert_exporter": "python",
      "pygments_lexer": "ipython3",
      "version": "3.11.4"
    },
    "widgets": {
      "application/vnd.jupyter.widget-state+json": {
        "077439fe4b3a411795e0ad3bb18e12a0": {
          "model_module": "@jupyter-widgets/controls",
          "model_module_version": "1.5.0",
          "model_name": "HTMLModel",
          "state": {
            "_dom_classes": [],
            "_model_module": "@jupyter-widgets/controls",
            "_model_module_version": "1.5.0",
            "_model_name": "HTMLModel",
            "_view_count": null,
            "_view_module": "@jupyter-widgets/controls",
            "_view_module_version": "1.5.0",
            "_view_name": "HTMLView",
            "description": "",
            "description_tooltip": null,
            "layout": "IPY_MODEL_7735f9534b6448f198b76ce6e62106f9",
            "placeholder": "​",
            "style": "IPY_MODEL_e489f921d3b44be99d53839ef2e37434",
            "value": " 625k/625k [00:00&lt;00:00, 1.00MB/s]"
          }
        },
        "1078edea5eb4428ea67d1f7818099da7": {
          "model_module": "@jupyter-widgets/controls",
          "model_module_version": "1.5.0",
          "model_name": "FloatProgressModel",
          "state": {
            "_dom_classes": [],
            "_model_module": "@jupyter-widgets/controls",
            "_model_module_version": "1.5.0",
            "_model_name": "FloatProgressModel",
            "_view_count": null,
            "_view_module": "@jupyter-widgets/controls",
            "_view_module_version": "1.5.0",
            "_view_name": "ProgressView",
            "bar_style": "success",
            "description": "100%",
            "description_tooltip": null,
            "layout": "IPY_MODEL_4200541ec6754eac86727d15320ce6df",
            "max": 640286,
            "min": 0,
            "orientation": "horizontal",
            "style": "IPY_MODEL_5b35a8cede8a42d68840fdb03315d270",
            "value": 640286
          }
        },
        "1e4ac03371c242169a9346edfd2e06bd": {
          "model_module": "@jupyter-widgets/controls",
          "model_module_version": "1.5.0",
          "model_name": "DescriptionStyleModel",
          "state": {
            "_model_module": "@jupyter-widgets/controls",
            "_model_module_version": "1.5.0",
            "_model_name": "DescriptionStyleModel",
            "_view_count": null,
            "_view_module": "@jupyter-widgets/base",
            "_view_module_version": "1.2.0",
            "_view_name": "StyleView",
            "description_width": ""
          }
        },
        "272a4565bda44d61afc4f07434a1fc58": {
          "model_module": "@jupyter-widgets/controls",
          "model_module_version": "1.5.0",
          "model_name": "FloatProgressModel",
          "state": {
            "_dom_classes": [],
            "_model_module": "@jupyter-widgets/controls",
            "_model_module_version": "1.5.0",
            "_model_name": "FloatProgressModel",
            "_view_count": null,
            "_view_module": "@jupyter-widgets/controls",
            "_view_module_version": "1.5.0",
            "_view_name": "ProgressView",
            "bar_style": "success",
            "description": "100%",
            "description_tooltip": null,
            "layout": "IPY_MODEL_3335c866a1f74bc093e138b2732c35e4",
            "max": 11646320,
            "min": 0,
            "orientation": "horizontal",
            "style": "IPY_MODEL_d6e105e4580b4acbaaf1c2bf9b9db961",
            "value": 11646320
          }
        },
        "3335c866a1f74bc093e138b2732c35e4": {
          "model_module": "@jupyter-widgets/base",
          "model_module_version": "1.2.0",
          "model_name": "LayoutModel",
          "state": {
            "_model_module": "@jupyter-widgets/base",
            "_model_module_version": "1.2.0",
            "_model_name": "LayoutModel",
            "_view_count": null,
            "_view_module": "@jupyter-widgets/base",
            "_view_module_version": "1.2.0",
            "_view_name": "LayoutView",
            "align_content": null,
            "align_items": null,
            "align_self": null,
            "border": null,
            "bottom": null,
            "display": null,
            "flex": null,
            "flex_flow": null,
            "grid_area": null,
            "grid_auto_columns": null,
            "grid_auto_flow": null,
            "grid_auto_rows": null,
            "grid_column": null,
            "grid_gap": null,
            "grid_row": null,
            "grid_template_areas": null,
            "grid_template_columns": null,
            "grid_template_rows": null,
            "height": null,
            "justify_content": null,
            "justify_items": null,
            "left": null,
            "margin": null,
            "max_height": null,
            "max_width": null,
            "min_height": null,
            "min_width": null,
            "object_fit": null,
            "object_position": null,
            "order": null,
            "overflow": null,
            "overflow_x": null,
            "overflow_y": null,
            "padding": null,
            "right": null,
            "top": null,
            "visibility": null,
            "width": null
          }
        },
        "3e05d08b32b049659465ed7148bc3a81": {
          "model_module": "@jupyter-widgets/base",
          "model_module_version": "1.2.0",
          "model_name": "LayoutModel",
          "state": {
            "_model_module": "@jupyter-widgets/base",
            "_model_module_version": "1.2.0",
            "_model_name": "LayoutModel",
            "_view_count": null,
            "_view_module": "@jupyter-widgets/base",
            "_view_module_version": "1.2.0",
            "_view_name": "LayoutView",
            "align_content": null,
            "align_items": null,
            "align_self": null,
            "border": null,
            "bottom": null,
            "display": null,
            "flex": null,
            "flex_flow": null,
            "grid_area": null,
            "grid_auto_columns": null,
            "grid_auto_flow": null,
            "grid_auto_rows": null,
            "grid_column": null,
            "grid_gap": null,
            "grid_row": null,
            "grid_template_areas": null,
            "grid_template_columns": null,
            "grid_template_rows": null,
            "height": null,
            "justify_content": null,
            "justify_items": null,
            "left": null,
            "margin": null,
            "max_height": null,
            "max_width": null,
            "min_height": null,
            "min_width": null,
            "object_fit": null,
            "object_position": null,
            "order": null,
            "overflow": null,
            "overflow_x": null,
            "overflow_y": null,
            "padding": null,
            "right": null,
            "top": null,
            "visibility": null,
            "width": null
          }
        },
        "4200541ec6754eac86727d15320ce6df": {
          "model_module": "@jupyter-widgets/base",
          "model_module_version": "1.2.0",
          "model_name": "LayoutModel",
          "state": {
            "_model_module": "@jupyter-widgets/base",
            "_model_module_version": "1.2.0",
            "_model_name": "LayoutModel",
            "_view_count": null,
            "_view_module": "@jupyter-widgets/base",
            "_view_module_version": "1.2.0",
            "_view_name": "LayoutView",
            "align_content": null,
            "align_items": null,
            "align_self": null,
            "border": null,
            "bottom": null,
            "display": null,
            "flex": null,
            "flex_flow": null,
            "grid_area": null,
            "grid_auto_columns": null,
            "grid_auto_flow": null,
            "grid_auto_rows": null,
            "grid_column": null,
            "grid_gap": null,
            "grid_row": null,
            "grid_template_areas": null,
            "grid_template_columns": null,
            "grid_template_rows": null,
            "height": null,
            "justify_content": null,
            "justify_items": null,
            "left": null,
            "margin": null,
            "max_height": null,
            "max_width": null,
            "min_height": null,
            "min_width": null,
            "object_fit": null,
            "object_position": null,
            "order": null,
            "overflow": null,
            "overflow_x": null,
            "overflow_y": null,
            "padding": null,
            "right": null,
            "top": null,
            "visibility": null,
            "width": null
          }
        },
        "4cba0c11084b46d0a643626a40056812": {
          "model_module": "@jupyter-widgets/controls",
          "model_module_version": "1.5.0",
          "model_name": "HBoxModel",
          "state": {
            "_dom_classes": [],
            "_model_module": "@jupyter-widgets/controls",
            "_model_module_version": "1.5.0",
            "_model_name": "HBoxModel",
            "_view_count": null,
            "_view_module": "@jupyter-widgets/controls",
            "_view_module_version": "1.5.0",
            "_view_name": "HBoxView",
            "box_style": "",
            "children": [
              "IPY_MODEL_1078edea5eb4428ea67d1f7818099da7",
              "IPY_MODEL_077439fe4b3a411795e0ad3bb18e12a0"
            ],
            "layout": "IPY_MODEL_9b74f095bc9943f8ae63af5ef01918b6"
          }
        },
        "579edd74d13440608326b027ffad5bea": {
          "model_module": "@jupyter-widgets/controls",
          "model_module_version": "1.5.0",
          "model_name": "HBoxModel",
          "state": {
            "_dom_classes": [],
            "_model_module": "@jupyter-widgets/controls",
            "_model_module_version": "1.5.0",
            "_model_name": "HBoxModel",
            "_view_count": null,
            "_view_module": "@jupyter-widgets/controls",
            "_view_module_version": "1.5.0",
            "_view_name": "HBoxView",
            "box_style": "",
            "children": [
              "IPY_MODEL_272a4565bda44d61afc4f07434a1fc58",
              "IPY_MODEL_a43e5680216442bfabcab0da522db00c"
            ],
            "layout": "IPY_MODEL_3e05d08b32b049659465ed7148bc3a81"
          }
        },
        "5b35a8cede8a42d68840fdb03315d270": {
          "model_module": "@jupyter-widgets/controls",
          "model_module_version": "1.5.0",
          "model_name": "ProgressStyleModel",
          "state": {
            "_model_module": "@jupyter-widgets/controls",
            "_model_module_version": "1.5.0",
            "_model_name": "ProgressStyleModel",
            "_view_count": null,
            "_view_module": "@jupyter-widgets/base",
            "_view_module_version": "1.2.0",
            "_view_name": "StyleView",
            "bar_color": null,
            "description_width": "initial"
          }
        },
        "7735f9534b6448f198b76ce6e62106f9": {
          "model_module": "@jupyter-widgets/base",
          "model_module_version": "1.2.0",
          "model_name": "LayoutModel",
          "state": {
            "_model_module": "@jupyter-widgets/base",
            "_model_module_version": "1.2.0",
            "_model_name": "LayoutModel",
            "_view_count": null,
            "_view_module": "@jupyter-widgets/base",
            "_view_module_version": "1.2.0",
            "_view_name": "LayoutView",
            "align_content": null,
            "align_items": null,
            "align_self": null,
            "border": null,
            "bottom": null,
            "display": null,
            "flex": null,
            "flex_flow": null,
            "grid_area": null,
            "grid_auto_columns": null,
            "grid_auto_flow": null,
            "grid_auto_rows": null,
            "grid_column": null,
            "grid_gap": null,
            "grid_row": null,
            "grid_template_areas": null,
            "grid_template_columns": null,
            "grid_template_rows": null,
            "height": null,
            "justify_content": null,
            "justify_items": null,
            "left": null,
            "margin": null,
            "max_height": null,
            "max_width": null,
            "min_height": null,
            "min_width": null,
            "object_fit": null,
            "object_position": null,
            "order": null,
            "overflow": null,
            "overflow_x": null,
            "overflow_y": null,
            "padding": null,
            "right": null,
            "top": null,
            "visibility": null,
            "width": null
          }
        },
        "9b74f095bc9943f8ae63af5ef01918b6": {
          "model_module": "@jupyter-widgets/base",
          "model_module_version": "1.2.0",
          "model_name": "LayoutModel",
          "state": {
            "_model_module": "@jupyter-widgets/base",
            "_model_module_version": "1.2.0",
            "_model_name": "LayoutModel",
            "_view_count": null,
            "_view_module": "@jupyter-widgets/base",
            "_view_module_version": "1.2.0",
            "_view_name": "LayoutView",
            "align_content": null,
            "align_items": null,
            "align_self": null,
            "border": null,
            "bottom": null,
            "display": null,
            "flex": null,
            "flex_flow": null,
            "grid_area": null,
            "grid_auto_columns": null,
            "grid_auto_flow": null,
            "grid_auto_rows": null,
            "grid_column": null,
            "grid_gap": null,
            "grid_row": null,
            "grid_template_areas": null,
            "grid_template_columns": null,
            "grid_template_rows": null,
            "height": null,
            "justify_content": null,
            "justify_items": null,
            "left": null,
            "margin": null,
            "max_height": null,
            "max_width": null,
            "min_height": null,
            "min_width": null,
            "object_fit": null,
            "object_position": null,
            "order": null,
            "overflow": null,
            "overflow_x": null,
            "overflow_y": null,
            "padding": null,
            "right": null,
            "top": null,
            "visibility": null,
            "width": null
          }
        },
        "9e3b706d9726405786f03f79bb03f8b7": {
          "model_module": "@jupyter-widgets/controls",
          "model_module_version": "1.5.0",
          "model_name": "HBoxModel",
          "state": {
            "_dom_classes": [],
            "_model_module": "@jupyter-widgets/controls",
            "_model_module_version": "1.5.0",
            "_model_name": "HBoxModel",
            "_view_count": null,
            "_view_module": "@jupyter-widgets/controls",
            "_view_module_version": "1.5.0",
            "_view_name": "HBoxView",
            "box_style": "",
            "children": [
              "IPY_MODEL_b3e5307cb4964ca9890a191a9cc28eea",
              "IPY_MODEL_dc91e92d8ed34cc788abe6b9a051742c"
            ],
            "layout": "IPY_MODEL_d5e622dc281246fcaaedeb0b9e1db321"
          }
        },
        "a43e5680216442bfabcab0da522db00c": {
          "model_module": "@jupyter-widgets/controls",
          "model_module_version": "1.5.0",
          "model_name": "HTMLModel",
          "state": {
            "_dom_classes": [],
            "_model_module": "@jupyter-widgets/controls",
            "_model_module_version": "1.5.0",
            "_model_name": "HTMLModel",
            "_view_count": null,
            "_view_module": "@jupyter-widgets/controls",
            "_view_module_version": "1.5.0",
            "_view_name": "HTMLView",
            "description": "",
            "description_tooltip": null,
            "layout": "IPY_MODEL_ef0572424a9b49758b356269b2b9d8c5",
            "placeholder": "​",
            "style": "IPY_MODEL_1e4ac03371c242169a9346edfd2e06bd",
            "value": " 11.1M/11.1M [00:00&lt;00:00, 79.0MB/s]"
          }
        },
        "b3e5307cb4964ca9890a191a9cc28eea": {
          "model_module": "@jupyter-widgets/controls",
          "model_module_version": "1.5.0",
          "model_name": "FloatProgressModel",
          "state": {
            "_dom_classes": [],
            "_model_module": "@jupyter-widgets/controls",
            "_model_module_version": "1.5.0",
            "_model_name": "FloatProgressModel",
            "_view_count": null,
            "_view_module": "@jupyter-widgets/controls",
            "_view_module_version": "1.5.0",
            "_view_name": "ProgressView",
            "bar_style": "success",
            "description": "100%",
            "description_tooltip": null,
            "layout": "IPY_MODEL_da0a56d4665f47c2bcfebbaa54a43020",
            "max": 17668816,
            "min": 0,
            "orientation": "horizontal",
            "style": "IPY_MODEL_b67af0a0f12f4d49a248417af7a0fe7b",
            "value": 17668816
          }
        },
        "b67af0a0f12f4d49a248417af7a0fe7b": {
          "model_module": "@jupyter-widgets/controls",
          "model_module_version": "1.5.0",
          "model_name": "ProgressStyleModel",
          "state": {
            "_model_module": "@jupyter-widgets/controls",
            "_model_module_version": "1.5.0",
            "_model_name": "ProgressStyleModel",
            "_view_count": null,
            "_view_module": "@jupyter-widgets/base",
            "_view_module_version": "1.2.0",
            "_view_name": "StyleView",
            "bar_color": null,
            "description_width": "initial"
          }
        },
        "bc7eec5b6c1546d78736df93e7091f7b": {
          "model_module": "@jupyter-widgets/base",
          "model_module_version": "1.2.0",
          "model_name": "LayoutModel",
          "state": {
            "_model_module": "@jupyter-widgets/base",
            "_model_module_version": "1.2.0",
            "_model_name": "LayoutModel",
            "_view_count": null,
            "_view_module": "@jupyter-widgets/base",
            "_view_module_version": "1.2.0",
            "_view_name": "LayoutView",
            "align_content": null,
            "align_items": null,
            "align_self": null,
            "border": null,
            "bottom": null,
            "display": null,
            "flex": null,
            "flex_flow": null,
            "grid_area": null,
            "grid_auto_columns": null,
            "grid_auto_flow": null,
            "grid_auto_rows": null,
            "grid_column": null,
            "grid_gap": null,
            "grid_row": null,
            "grid_template_areas": null,
            "grid_template_columns": null,
            "grid_template_rows": null,
            "height": null,
            "justify_content": null,
            "justify_items": null,
            "left": null,
            "margin": null,
            "max_height": null,
            "max_width": null,
            "min_height": null,
            "min_width": null,
            "object_fit": null,
            "object_position": null,
            "order": null,
            "overflow": null,
            "overflow_x": null,
            "overflow_y": null,
            "padding": null,
            "right": null,
            "top": null,
            "visibility": null,
            "width": null
          }
        },
        "bdb95f9433ec4c13a44c2df5437d2b43": {
          "model_module": "@jupyter-widgets/controls",
          "model_module_version": "1.5.0",
          "model_name": "DescriptionStyleModel",
          "state": {
            "_model_module": "@jupyter-widgets/controls",
            "_model_module_version": "1.5.0",
            "_model_name": "DescriptionStyleModel",
            "_view_count": null,
            "_view_module": "@jupyter-widgets/base",
            "_view_module_version": "1.2.0",
            "_view_name": "StyleView",
            "description_width": ""
          }
        },
        "d5e622dc281246fcaaedeb0b9e1db321": {
          "model_module": "@jupyter-widgets/base",
          "model_module_version": "1.2.0",
          "model_name": "LayoutModel",
          "state": {
            "_model_module": "@jupyter-widgets/base",
            "_model_module_version": "1.2.0",
            "_model_name": "LayoutModel",
            "_view_count": null,
            "_view_module": "@jupyter-widgets/base",
            "_view_module_version": "1.2.0",
            "_view_name": "LayoutView",
            "align_content": null,
            "align_items": null,
            "align_self": null,
            "border": null,
            "bottom": null,
            "display": null,
            "flex": null,
            "flex_flow": null,
            "grid_area": null,
            "grid_auto_columns": null,
            "grid_auto_flow": null,
            "grid_auto_rows": null,
            "grid_column": null,
            "grid_gap": null,
            "grid_row": null,
            "grid_template_areas": null,
            "grid_template_columns": null,
            "grid_template_rows": null,
            "height": null,
            "justify_content": null,
            "justify_items": null,
            "left": null,
            "margin": null,
            "max_height": null,
            "max_width": null,
            "min_height": null,
            "min_width": null,
            "object_fit": null,
            "object_position": null,
            "order": null,
            "overflow": null,
            "overflow_x": null,
            "overflow_y": null,
            "padding": null,
            "right": null,
            "top": null,
            "visibility": null,
            "width": null
          }
        },
        "d6e105e4580b4acbaaf1c2bf9b9db961": {
          "model_module": "@jupyter-widgets/controls",
          "model_module_version": "1.5.0",
          "model_name": "ProgressStyleModel",
          "state": {
            "_model_module": "@jupyter-widgets/controls",
            "_model_module_version": "1.5.0",
            "_model_name": "ProgressStyleModel",
            "_view_count": null,
            "_view_module": "@jupyter-widgets/base",
            "_view_module_version": "1.2.0",
            "_view_name": "StyleView",
            "bar_color": null,
            "description_width": "initial"
          }
        },
        "da0a56d4665f47c2bcfebbaa54a43020": {
          "model_module": "@jupyter-widgets/base",
          "model_module_version": "1.2.0",
          "model_name": "LayoutModel",
          "state": {
            "_model_module": "@jupyter-widgets/base",
            "_model_module_version": "1.2.0",
            "_model_name": "LayoutModel",
            "_view_count": null,
            "_view_module": "@jupyter-widgets/base",
            "_view_module_version": "1.2.0",
            "_view_name": "LayoutView",
            "align_content": null,
            "align_items": null,
            "align_self": null,
            "border": null,
            "bottom": null,
            "display": null,
            "flex": null,
            "flex_flow": null,
            "grid_area": null,
            "grid_auto_columns": null,
            "grid_auto_flow": null,
            "grid_auto_rows": null,
            "grid_column": null,
            "grid_gap": null,
            "grid_row": null,
            "grid_template_areas": null,
            "grid_template_columns": null,
            "grid_template_rows": null,
            "height": null,
            "justify_content": null,
            "justify_items": null,
            "left": null,
            "margin": null,
            "max_height": null,
            "max_width": null,
            "min_height": null,
            "min_width": null,
            "object_fit": null,
            "object_position": null,
            "order": null,
            "overflow": null,
            "overflow_x": null,
            "overflow_y": null,
            "padding": null,
            "right": null,
            "top": null,
            "visibility": null,
            "width": null
          }
        },
        "dc91e92d8ed34cc788abe6b9a051742c": {
          "model_module": "@jupyter-widgets/controls",
          "model_module_version": "1.5.0",
          "model_name": "HTMLModel",
          "state": {
            "_dom_classes": [],
            "_model_module": "@jupyter-widgets/controls",
            "_model_module_version": "1.5.0",
            "_model_name": "HTMLModel",
            "_view_count": null,
            "_view_module": "@jupyter-widgets/controls",
            "_view_module_version": "1.5.0",
            "_view_name": "HTMLView",
            "description": "",
            "description_tooltip": null,
            "layout": "IPY_MODEL_bc7eec5b6c1546d78736df93e7091f7b",
            "placeholder": "​",
            "style": "IPY_MODEL_bdb95f9433ec4c13a44c2df5437d2b43",
            "value": " 16.9M/16.9M [00:00&lt;00:00, 141MB/s]"
          }
        },
        "e489f921d3b44be99d53839ef2e37434": {
          "model_module": "@jupyter-widgets/controls",
          "model_module_version": "1.5.0",
          "model_name": "DescriptionStyleModel",
          "state": {
            "_model_module": "@jupyter-widgets/controls",
            "_model_module_version": "1.5.0",
            "_model_name": "DescriptionStyleModel",
            "_view_count": null,
            "_view_module": "@jupyter-widgets/base",
            "_view_module_version": "1.2.0",
            "_view_name": "StyleView",
            "description_width": ""
          }
        },
        "ef0572424a9b49758b356269b2b9d8c5": {
          "model_module": "@jupyter-widgets/base",
          "model_module_version": "1.2.0",
          "model_name": "LayoutModel",
          "state": {
            "_model_module": "@jupyter-widgets/base",
            "_model_module_version": "1.2.0",
            "_model_name": "LayoutModel",
            "_view_count": null,
            "_view_module": "@jupyter-widgets/base",
            "_view_module_version": "1.2.0",
            "_view_name": "LayoutView",
            "align_content": null,
            "align_items": null,
            "align_self": null,
            "border": null,
            "bottom": null,
            "display": null,
            "flex": null,
            "flex_flow": null,
            "grid_area": null,
            "grid_auto_columns": null,
            "grid_auto_flow": null,
            "grid_auto_rows": null,
            "grid_column": null,
            "grid_gap": null,
            "grid_row": null,
            "grid_template_areas": null,
            "grid_template_columns": null,
            "grid_template_rows": null,
            "height": null,
            "justify_content": null,
            "justify_items": null,
            "left": null,
            "margin": null,
            "max_height": null,
            "max_width": null,
            "min_height": null,
            "min_width": null,
            "object_fit": null,
            "object_position": null,
            "order": null,
            "overflow": null,
            "overflow_x": null,
            "overflow_y": null,
            "padding": null,
            "right": null,
            "top": null,
            "visibility": null,
            "width": null
          }
        }
      }
    }
  },
  "nbformat": 4,
  "nbformat_minor": 0
}
